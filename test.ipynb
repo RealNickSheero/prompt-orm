{
 "cells": [
  {
   "cell_type": "code",
   "execution_count": 3,
   "metadata": {},
   "outputs": [
    {
     "ename": "ImportError",
     "evalue": "attempted relative import with no known parent package",
     "output_type": "error",
     "traceback": [
      "\u001b[0;31m---------------------------------------------------------------------------\u001b[0m",
      "\u001b[0;31mImportError\u001b[0m                               Traceback (most recent call last)",
      "Cell \u001b[0;32mIn[3], line 2\u001b[0m\n\u001b[1;32m      1\u001b[0m \u001b[38;5;28;01mfrom\u001b[39;00m \u001b[38;5;21;01mdatetime\u001b[39;00m \u001b[38;5;28;01mimport\u001b[39;00m datetime\n\u001b[0;32m----> 2\u001b[0m \u001b[38;5;28;01mfrom\u001b[39;00m \u001b[38;5;21;01m.\u001b[39;00m\u001b[38;5;21;01mparser\u001b[39;00m \u001b[38;5;28;01mimport\u001b[39;00m VariableParser\n\u001b[1;32m      4\u001b[0m \u001b[38;5;28;01mdef\u001b[39;00m \u001b[38;5;21mtest_parser\u001b[39m():\n\u001b[1;32m      5\u001b[0m     \u001b[38;5;66;03m# Sample state and object\u001b[39;00m\n\u001b[1;32m      6\u001b[0m     state \u001b[38;5;241m=\u001b[39m {\n\u001b[1;32m      7\u001b[0m         \u001b[38;5;124m\"\u001b[39m\u001b[38;5;124mmovies\u001b[39m\u001b[38;5;124m\"\u001b[39m: [\n\u001b[1;32m      8\u001b[0m             {\u001b[38;5;124m\"\u001b[39m\u001b[38;5;124mtitle\u001b[39m\u001b[38;5;124m\"\u001b[39m: \u001b[38;5;124m\"\u001b[39m\u001b[38;5;124mMovie 1\u001b[39m\u001b[38;5;124m\"\u001b[39m, \u001b[38;5;124m\"\u001b[39m\u001b[38;5;124mstatus\u001b[39m\u001b[38;5;124m\"\u001b[39m: \u001b[38;5;124m\"\u001b[39m\u001b[38;5;124mactive\u001b[39m\u001b[38;5;124m\"\u001b[39m, \u001b[38;5;124m\"\u001b[39m\u001b[38;5;124mrelease_date\u001b[39m\u001b[38;5;124m\"\u001b[39m: datetime(\u001b[38;5;241m2003\u001b[39m, \u001b[38;5;241m10\u001b[39m, \u001b[38;5;241m15\u001b[39m)},\n\u001b[0;32m   (...)\u001b[0m\n\u001b[1;32m     14\u001b[0m         }\n\u001b[1;32m     15\u001b[0m     }\n",
      "\u001b[0;31mImportError\u001b[0m: attempted relative import with no known parent package"
     ]
    }
   ],
   "source": [
    "from datetime import datetime\n",
    "from .parser import VariableParser\n",
    "\n",
    "def test_parser():\n",
    "    # Sample state and object\n",
    "    state = {\n",
    "        \"movies\": [\n",
    "            {\"title\": \"Movie 1\", \"status\": \"active\", \"release_date\": datetime(2003, 10, 15)},\n",
    "            {\"title\": \"Movie 2\", \"status\": \"canceled\", \"release_date\": datetime(2002, 9, 1)},\n",
    "        ],\n",
    "        \"user_profile\": {\n",
    "            \"firstname\": \"John\",\n",
    "            \"lastname\": \"Doe\"\n",
    "        }\n",
    "    }\n",
    "    \n",
    "    obj = {\n",
    "        \"user_info\": {\"email\": \"john@example.com\"},\n",
    "        \"user_actions\": [\n",
    "            {\"event_category\": \"web\", \"action\": \"click\"},\n",
    "            {\"event_category\": \"mobile\", \"action\": \"swipe\"}\n",
    "        ]\n",
    "    }\n",
    "    \n",
    "    parser = VariableParser()\n",
    "    \n",
    "    # Test simple state access\n",
    "    result = parser.evaluate(\"parse: state.movies\", state, obj)\n",
    "    print(\"Movies:\", result)\n",
    "    \n",
    "    # Test with condition\n",
    "    result = parser.evaluate(\n",
    "        \"parse: state.movies WHERE status == canceled AND release_date > 10.10.2002\",\n",
    "        state, obj\n",
    "    )\n",
    "    print(\"Filtered movies:\", result)\n",
    "    \n",
    "    # Test object access\n",
    "    result = parser.evaluate(\"parse: obj.user_info\", state, obj)\n",
    "    print(\"User info:\", result)\n",
    "    \n",
    "    # Test with CONTAINS\n",
    "    result = parser.evaluate(\n",
    "        \"parse: obj.user_actions WHERE event_category CONTAINS web\",\n",
    "        state, obj\n",
    "    )\n",
    "    print(\"Web actions:\", result)\n",
    "    \n",
    "    # Test concatenation\n",
    "    result = parser.evaluate(\n",
    "        \"parse: state.user_profile.firstname + state.user_profile.lastname\",\n",
    "        state, obj\n",
    "    )\n",
    "    print(\"Full name:\", result)"
   ]
  },
  {
   "cell_type": "code",
   "execution_count": null,
   "metadata": {},
   "outputs": [],
   "source": []
  }
 ],
 "metadata": {
  "kernelspec": {
   "display_name": "Python (myenv)",
   "language": "python",
   "name": "myenv"
  },
  "language_info": {
   "codemirror_mode": {
    "name": "ipython",
    "version": 3
   },
   "file_extension": ".py",
   "mimetype": "text/x-python",
   "name": "python",
   "nbconvert_exporter": "python",
   "pygments_lexer": "ipython3",
   "version": "3.12.4"
  }
 },
 "nbformat": 4,
 "nbformat_minor": 2
}
